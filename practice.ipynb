{
 "cells": [
  {
   "cell_type": "code",
   "execution_count": 18,
   "metadata": {},
   "outputs": [
    {
     "name": "stdout",
     "output_type": "stream",
     "text": [
      "Requirement already satisfied: ifcopenshell in c:\\users\\d.kokaya\\appdata\\local\\programs\\python\\python312\\lib\\site-packages (0.7.10)\n",
      "Requirement already satisfied: shapely in c:\\users\\d.kokaya\\appdata\\local\\programs\\python\\python312\\lib\\site-packages (from ifcopenshell) (2.0.5)\n",
      "Requirement already satisfied: numpy in c:\\users\\d.kokaya\\appdata\\local\\programs\\python\\python312\\lib\\site-packages (from ifcopenshell) (2.0.1)\n",
      "Requirement already satisfied: isodate in c:\\users\\d.kokaya\\appdata\\local\\programs\\python\\python312\\lib\\site-packages (from ifcopenshell) (0.6.1)\n",
      "Requirement already satisfied: python-dateutil in c:\\users\\d.kokaya\\appdata\\roaming\\python\\python312\\site-packages (from ifcopenshell) (2.9.0.post0)\n",
      "Requirement already satisfied: lark in c:\\users\\d.kokaya\\appdata\\local\\programs\\python\\python312\\lib\\site-packages (from ifcopenshell) (1.1.9)\n",
      "Requirement already satisfied: typing-extensions in c:\\users\\d.kokaya\\appdata\\local\\programs\\python\\python312\\lib\\site-packages (from ifcopenshell) (4.12.2)\n",
      "Requirement already satisfied: six in c:\\users\\d.kokaya\\appdata\\roaming\\python\\python312\\site-packages (from isodate->ifcopenshell) (1.16.0)\n",
      "Note: you may need to restart the kernel to use updated packages.\n"
     ]
    }
   ],
   "source": [
    "pip install ifcopenshell"
   ]
  },
  {
   "cell_type": "code",
   "execution_count": 19,
   "metadata": {},
   "outputs": [],
   "source": [
    "import ifcopenshell "
   ]
  },
  {
   "cell_type": "markdown",
   "metadata": {},
   "source": [
    "### excercises"
   ]
  },
  {
   "cell_type": "markdown",
   "metadata": {},
   "source": [
    "Write a program which can compute the factorial of a given numbers.\n",
    "The results should be printed in a comma-separated sequence on a single line.\n",
    "Suppose the following input is supplied to the program:\n",
    "8\n",
    "Then, the output should be:\n",
    "40320"
   ]
  },
  {
   "cell_type": "code",
   "execution_count": 8,
   "metadata": {},
   "outputs": [
    {
     "data": {
      "text/plain": [
       "120"
      ]
     },
     "execution_count": 8,
     "metadata": {},
     "output_type": "execute_result"
    }
   ],
   "source": [
    "import math\n",
    "\n",
    "def fact(x):\n",
    "    factorial = 1\n",
    "    l1 = range(1, x + 1)\n",
    "    if x == 0:\n",
    "        return 1\n",
    "    else:\n",
    "        for i in l1:\n",
    "            factorial = factorial * i    # факториал записывается каждый раз заново в переменную после каждого умножения\n",
    "    return factorial\n",
    "\n",
    "fact(5)        "
   ]
  },
  {
   "cell_type": "markdown",
   "metadata": {},
   "source": [
    "With a given integral number n, write a program to generate a dictionary that contains (i, i*i) such that is an integral number between 1 and n (both included). and then the program should print the dictionary.\n",
    "Suppose the following input is supplied to the program:\n",
    "8\n",
    "Then, the output should be:\n",
    "{1: 1, 2: 4, 3: 9, 4: 16, 5: 25, 6: 36, 7: 49, 8: 64}"
   ]
  },
  {
   "cell_type": "code",
   "execution_count": 14,
   "metadata": {},
   "outputs": [
    {
     "data": {
      "text/plain": [
       "{1: 1, 2: 4, 3: 9, 4: 16, 5: 25, 6: 36, 7: 49, 8: 64}"
      ]
     },
     "execution_count": 14,
     "metadata": {},
     "output_type": "execute_result"
    }
   ],
   "source": [
    "def dictgen(n):\n",
    "    r1 = range(1, n + 1)\n",
    "    dict1 = {}\n",
    "    for i in r1:\n",
    "        dict1[i] = i * i    # in brackets here is a key and we assign value to it\n",
    "    return dict1\n",
    "\n",
    "\n",
    "dictgen(8)"
   ]
  },
  {
   "cell_type": "markdown",
   "metadata": {},
   "source": [
    "Write a program which accepts a sequence of comma-separated numbers from console and generate a list and a tuple which contains every number.\n",
    "Suppose the following input is supplied to the program:\n",
    "34,67,55,33,12,98\n",
    "Then, the output should be:\n",
    "['34', '67', '55', '33', '12', '98']\n",
    "('34', '67', '55', '33', '12', '98')"
   ]
  },
  {
   "cell_type": "code",
   "execution_count": 3,
   "metadata": {},
   "outputs": [
    {
     "name": "stdout",
     "output_type": "stream",
     "text": [
      "['34', '67', '55', '33', '12', '98']\n",
      "('34', '67', '55', '33', '12', '98')\n"
     ]
    }
   ],
   "source": [
    "input = \"34,67,55,33,12,98\"\n",
    "\n",
    "l = input.split(\",\")\n",
    "t = tuple(l)\n",
    "print(l)\n",
    "print(t)"
   ]
  },
  {
   "cell_type": "markdown",
   "metadata": {},
   "source": [
    "Define a class which has at least two methods:\n",
    "getString: to get a string from console input\n",
    "printString: to print the string in upper case.\n",
    "Also please include simple test function to test the class methods."
   ]
  },
  {
   "cell_type": "code",
   "execution_count": 17,
   "metadata": {},
   "outputs": [
    {
     "name": "stdout",
     "output_type": "stream",
     "text": [
      "That's a row\n",
      "THAT'S A ROW\n"
     ]
    }
   ],
   "source": [
    "class Strings:\n",
    "    def __init__(self, raw_string):\n",
    "        self.raw_string = raw_string\n",
    "\n",
    "    def getString(self):\n",
    "        print(self.raw_string)\n",
    "\n",
    "    def printString(self):\n",
    "        print(self.raw_string.upper())\n",
    "\n",
    "Example = Strings(\"That's a row\")\n",
    "\n",
    "Example.getString()\n",
    "Example.printString()"
   ]
  },
  {
   "cell_type": "markdown",
   "metadata": {},
   "source": [
    "Write a program that calculates and prints the value according to the given formula:\n",
    "Q = Square root of [(2 * C * D)/H]\n",
    "Following are the fixed values of C and H:\n",
    "C is 50. H is 30.\n",
    "D is the variable whose values should be input to your program in a comma-separated sequence.\n",
    "Example\n",
    "Let us assume the following comma separated input sequence is given to the program:\n",
    "100,150,180\n",
    "The output of the program should be:\n",
    "18,22,24"
   ]
  },
  {
   "cell_type": "code",
   "execution_count": 28,
   "metadata": {},
   "outputs": [
    {
     "name": "stdout",
     "output_type": "stream",
     "text": [
      "[1.8257418583505538, 2.581988897471611, 3.1622776601683795]\n"
     ]
    }
   ],
   "source": [
    "import math\n",
    "c = 50\n",
    "h = 30\n",
    "def calculator(input):\n",
    "    answer = []\n",
    "    d = list(input)\n",
    "    for i in d:\n",
    "        ans = math.sqrt((2 * c * i) / h)\n",
    "        answer.append(ans)\n",
    "    print(answer)\n",
    "\n",
    "calculator((1, 2, 3))    "
   ]
  },
  {
   "cell_type": "markdown",
   "metadata": {},
   "source": [
    "Write a program which takes 2 digits, X,Y as input and generates a 2-dimensional array. The element value in the i-th row and j-th column of the array should be i*j.\n",
    "Note: i=0,1.., X-1; j=0,1,¡­Y-1.\n",
    "Example\n",
    "Suppose the following inputs are given to the program:\n",
    "3,5\n",
    "Then, the output of the program should be:\n",
    "[[0, 0, 0, 0, 0], [0, 1, 2, 3, 4], [0, 2, 4, 6, 8]]"
   ]
  },
  {
   "cell_type": "code",
   "execution_count": 9,
   "metadata": {},
   "outputs": [],
   "source": [
    "\n",
    "def func1(raw_input):\n",
    "    input_str = raw_input()\n",
    "    dimensions=[int(x) for x in input_str.split(',')]\n",
    "    rowNum=dimensions[0]\n",
    "    colNum=dimensions[1]\n",
    "    multilist = [[0 for col in range(colNum)] for row in range(rowNum)]\n",
    "\n",
    "    for row in range(rowNum):\n",
    "        for col in range(colNum):\n",
    "            multilist[row][col]= row*col\n",
    "\n",
    "    print(multilist)\n"
   ]
  },
  {
   "cell_type": "markdown",
   "metadata": {},
   "source": [
    "Write a program that accepts a comma separated sequence of words as input and prints the words in a comma-separated sequence after sorting them alphabetically.\n",
    "Suppose the following input is supplied to the program:\n",
    "without,hello,bag,world\n",
    "Then, the output should be:\n",
    "bag,hello,without,world"
   ]
  },
  {
   "cell_type": "code",
   "execution_count": 14,
   "metadata": {},
   "outputs": [
    {
     "data": {
      "text/plain": [
       "[' alphabet', 'well']"
      ]
     },
     "execution_count": 14,
     "metadata": {},
     "output_type": "execute_result"
    }
   ],
   "source": [
    "def sortmech(input1:str):\n",
    "    output = input1.split(\",\")\n",
    "    return sorted(output)\n",
    "\n",
    "sortmech(\"well, alphabet\")\n"
   ]
  },
  {
   "cell_type": "markdown",
   "metadata": {},
   "source": [
    "Write a program that accepts sequence of lines as input and prints the lines after making all characters in the sentence capitalized.\n",
    "Suppose the following input is supplied to the program:\n",
    "Hello world\n",
    "Practice makes perfect\n",
    "Then, the output should be:\n",
    "HELLO WORLD\n",
    "PRACTICE MAKES PERFECT"
   ]
  },
  {
   "cell_type": "code",
   "execution_count": 17,
   "metadata": {},
   "outputs": [
    {
     "name": "stdout",
     "output_type": "stream",
     "text": [
      "HELLO WORLD\n",
      "PRACTICE MAKES PERFECT\n"
     ]
    }
   ],
   "source": [
    "exinp = ((\"Hello world\", \"Practice makes perfect\"))\n",
    "def func2(input2):\n",
    "    outpt = [x.upper() for x in exinp]\n",
    "    print('\\n'.join(outpt))\n",
    "\n",
    "func2(exinp)"
   ]
  },
  {
   "cell_type": "markdown",
   "metadata": {},
   "source": [
    "Write a program that accepts a sequence of whitespace separated words as input and prints the words after removing all duplicate words and sorting them alphanumerically.\n",
    "Suppose the following input is supplied to the program:\n",
    "hello world and practice makes perfect and hello world again\n",
    "Then, the output should be:\n",
    "again and hello makes perfect practice world"
   ]
  },
  {
   "cell_type": "code",
   "execution_count": 28,
   "metadata": {},
   "outputs": [
    {
     "data": {
      "text/plain": [
       "'abbreviate depends doll gain hello in is mind on up what your'"
      ]
     },
     "execution_count": 28,
     "metadata": {},
     "output_type": "execute_result"
    }
   ],
   "source": [
    "from collections import Counter\n",
    "\n",
    "exinp1 = \"doll hello what abbreviate is up in your mind hello your gain depends what on on doll\"\n",
    "\n",
    "def func3(yourstr):\n",
    "    yourstr = yourstr.split(\" \")\n",
    "    uniques = Counter(yourstr)\n",
    "    output = \" \".join(uniques)\n",
    "    return \" \".join(sorted(output.split(' ')))\n",
    "\n",
    "func3(exinp1)\n"
   ]
  },
  {
   "cell_type": "markdown",
   "metadata": {},
   "source": [
    "Write a program which accepts a sequence of comma separated 4 digit binary numbers as its input and then check whether they are divisible by 5 or not. The numbers that are divisible by 5 are to be printed in a comma separated sequence.\n",
    "Example:\n",
    "0100,0011,1010,1001\n",
    "Then the output should be:\n",
    "1010\n",
    "Notes: Assume the data is input by console."
   ]
  },
  {
   "cell_type": "code",
   "execution_count": 16,
   "metadata": {},
   "outputs": [
    {
     "data": {
      "text/plain": [
       "[1010, 10]"
      ]
     },
     "execution_count": 16,
     "metadata": {},
     "output_type": "execute_result"
    }
   ],
   "source": [
    "input4 = {1010, 1111, 1011, 1001, 10}\n",
    "def func4(inp):\n",
    "    output4 = []\n",
    "    [output4.append(x) for x in inp if x % 5 == 0]\n",
    "    return output4\n",
    "func4(input4)"
   ]
  },
  {
   "cell_type": "markdown",
   "metadata": {},
   "source": [
    "creatin classes and using class attributes/methods"
   ]
  },
  {
   "cell_type": "code",
   "execution_count": 30,
   "metadata": {},
   "outputs": [
    {
     "data": {
      "text/plain": [
       "'a.reeves@gmail.com'"
      ]
     },
     "execution_count": 30,
     "metadata": {},
     "output_type": "execute_result"
    }
   ],
   "source": [
    "class Waiter:\n",
    "    def __init__(self, first, last, age, salary, title):\n",
    "        self.first = first\n",
    "        self.last = last\n",
    "        self.age = age\n",
    "        self.salary = salary\n",
    "        self.title = title\n",
    "        self.fullname = f\"Le {first} {last}\"\n",
    "    \n",
    "    def emailgenerator(self):    # creating a new class method we don't have to initialize all the variables presented before on the __init__ clause\n",
    "        return f\"{self.first[0]}.{self.last}@gmail.com\".lower()\n",
    "\n",
    "Waiter1 = Waiter(\"Alex\", \"Reeves\", 23, 56000, \"2nd waiter\")\n",
    "\n",
    "Waiter1.emailgenerator()\n",
    "\n",
    "Waiter.emailgenerator(Waiter1)    # we can retrieve result of a class method of instance through class\n"
   ]
  },
  {
   "cell_type": "code",
   "execution_count": 39,
   "metadata": {},
   "outputs": [
    {
     "data": {
      "text/plain": [
       "1"
      ]
     },
     "execution_count": 39,
     "metadata": {},
     "output_type": "execute_result"
    }
   ],
   "source": [
    "class Waiter:\n",
    "    number_of_emplyees = 0\n",
    "    rate = 1.02\n",
    "\n",
    "    def __init__(self, first, last, age, salary, title):\n",
    "        self.first = first\n",
    "        self.last = last\n",
    "        self.age = age\n",
    "        self.salary = salary\n",
    "        self.title = title\n",
    "        self.fullname = f\"Le {first} {last}\"\n",
    "        \n",
    "    number_of_employees =+ 1\n",
    "    \n",
    "    def emailgenerator(self):\n",
    "        return f\"{self.first[0]}.{self.last}@gmail.com\".lower()\n",
    "    \n",
    "    def increase_salary(self):\n",
    "        self.salary = self.salary * self.rate\n",
    "\n",
    "Waiter1 = Waiter(\"Alex\", \"Reeves\", 23, 56000, \"2nd waiter\")\n",
    "\n",
    "Waiter.number_of_employees\n"
   ]
  },
  {
   "cell_type": "code",
   "execution_count": 40,
   "metadata": {},
   "outputs": [
    {
     "data": {
      "text/plain": [
       "57120.0"
      ]
     },
     "execution_count": 40,
     "metadata": {},
     "output_type": "execute_result"
    }
   ],
   "source": [
    "Waiter1.increase_salary()\n",
    "Waiter1.salary"
   ]
  },
  {
   "cell_type": "markdown",
   "metadata": {},
   "source": [
    "Question:\n",
    "Write a program, which will find all such numbers between 1000 and 3000 (both included) such that each digit of the number is an even number.\n",
    "The numbers obtained should be printed in a comma-separated sequence on a single line.\n",
    "\n",
    "Hints:\n",
    "In case of input data being supplied to the question, it should be assumed to be a console input."
   ]
  },
  {
   "cell_type": "code",
   "execution_count": null,
   "metadata": {},
   "outputs": [],
   "source": []
  }
 ],
 "metadata": {
  "kernelspec": {
   "display_name": "Python 3",
   "language": "python",
   "name": "python3"
  },
  "language_info": {
   "codemirror_mode": {
    "name": "ipython",
    "version": 3
   },
   "file_extension": ".py",
   "mimetype": "text/x-python",
   "name": "python",
   "nbconvert_exporter": "python",
   "pygments_lexer": "ipython3",
   "version": "3.12.5"
  }
 },
 "nbformat": 4,
 "nbformat_minor": 2
}
